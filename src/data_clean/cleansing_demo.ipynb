{
 "cells": [
  {
   "cell_type": "code",
   "execution_count": null,
   "metadata": {
    "application/vnd.databricks.v1+cell": {
     "cellMetadata": {
      "byteLimit": 2048000,
      "rowLimit": 10000
     },
     "inputWidgets": {},
     "nuid": "dc111d9a-ce00-4271-b564-2937d79346c0",
     "showTitle": false,
     "title": ""
    }
   },
   "outputs": [],
   "source": [
    "dbutils.library.restartPython()"
   ]
  },
  {
   "cell_type": "code",
   "execution_count": null,
   "metadata": {
    "application/vnd.databricks.v1+cell": {
     "cellMetadata": {
      "byteLimit": 2048000,
      "rowLimit": 10000
     },
     "inputWidgets": {},
     "nuid": "46de735c-646f-4da4-a66b-cd38492fc91d",
     "showTitle": false,
     "title": ""
    }
   },
   "outputs": [],
   "source": [
    "import os\n",
    "os.sys.path.append(\"/Workspace/Repos/delsonscyan@hkjccorpdev.onmicrosoft.com/stretch_goal/src/elson\")"
   ]
  },
  {
   "cell_type": "markdown",
   "metadata": {
    "application/vnd.databricks.v1+cell": {
     "cellMetadata": {
      "byteLimit": 2048000,
      "rowLimit": 10000
     },
     "inputWidgets": {},
     "nuid": "b50637c1-8b4d-4d54-8442-ac945ed972a6",
     "showTitle": false,
     "title": ""
    }
   },
   "source": [
    "## import libs and spark session"
   ]
  },
  {
   "cell_type": "code",
   "execution_count": null,
   "metadata": {
    "application/vnd.databricks.v1+cell": {
     "cellMetadata": {
      "byteLimit": 2048000,
      "rowLimit": 10000
     },
     "inputWidgets": {},
     "nuid": "59d85899-eab9-42ea-807c-a00ff19a0648",
     "showTitle": false,
     "title": ""
    }
   },
   "outputs": [],
   "source": [
    "from pyspark.sql import SparkSession\n",
    "spark = SparkSession.builder.appName(\"demo\").getOrCreate()"
   ]
  },
  {
   "cell_type": "code",
   "execution_count": null,
   "metadata": {
    "application/vnd.databricks.v1+cell": {
     "cellMetadata": {
      "byteLimit": 2048000,
      "rowLimit": 10000
     },
     "inputWidgets": {},
     "nuid": "4d6aafe4-2643-4b0e-88ac-546e7b33238a",
     "showTitle": false,
     "title": ""
    }
   },
   "outputs": [],
   "source": [
    "from data_clean.column_transformer import Cleansing"
   ]
  },
  {
   "cell_type": "markdown",
   "metadata": {
    "application/vnd.databricks.v1+cell": {
     "cellMetadata": {
      "byteLimit": 2048000,
      "rowLimit": 10000
     },
     "inputWidgets": {},
     "nuid": "e8cc7576-5399-4762-b76e-7a34196a97ec",
     "showTitle": false,
     "title": ""
    }
   },
   "source": [
    "## create a source dataframe"
   ]
  },
  {
   "cell_type": "code",
   "execution_count": null,
   "metadata": {},
   "outputs": [],
   "source": [
    "from pyspark.sql.types import StructType, StructField, StringType, IntegerType\n",
    "schema = StructType([\n",
    "    StructField(\"id\", StringType(), True),\n",
    "    StructField(\"name\", StringType(), True),\n",
    "    StructField(\"gender\", StringType(), True),\n",
    "    StructField(\"country\", StringType(), True),\n",
    "    StructField(\"age\", IntegerType(), True),\n",
    "])\n",
    "data = [\n",
    "    (\"001\",\"AaaA\",\"male\",\"US\",1),\n",
    "    (\"\"   ,\"BBBB\",\"male\",\"UK\",2),\n",
    "    (\"003\",\"\"    , None , \"\" ,3),\n",
    "]\n",
    "rate_df = spark.createDataFrame(data, schema)\n",
    "rate_df.display()"
   ]
  },
  {
   "cell_type": "markdown",
   "metadata": {
    "application/vnd.databricks.v1+cell": {
     "cellMetadata": {
      "byteLimit": 2048000,
      "rowLimit": 10000
     },
     "inputWidgets": {},
     "nuid": "5bd4a038-4dd1-48e7-9b3b-68454f543d6f",
     "showTitle": false,
     "title": ""
    }
   },
   "source": [
    "## instance a Cleansing obj and add rules"
   ]
  },
  {
   "cell_type": "code",
   "execution_count": null,
   "metadata": {
    "application/vnd.databricks.v1+cell": {
     "cellMetadata": {
      "byteLimit": 2048000,
      "rowLimit": 10000
     },
     "inputWidgets": {},
     "nuid": "bf523f3a-abf7-44d4-a306-554e8798b0e9",
     "showTitle": false,
     "title": ""
    }
   },
   "outputs": [],
   "source": [
    "cleansing = Cleansing(\n",
    "        rate_df,\n",
    "        \"./test_rules.yaml\",\n",
    "    )"
   ]
  },
  {
   "cell_type": "markdown",
   "metadata": {
    "application/vnd.databricks.v1+cell": {
     "cellMetadata": {
      "byteLimit": 2048000,
      "rowLimit": 10000
     },
     "inputWidgets": {},
     "nuid": "79b3bb57-7f7a-49a5-af48-10ac1a1762a9",
     "showTitle": false,
     "title": ""
    }
   },
   "source": [
    "## use builtin rules"
   ]
  },
  {
   "cell_type": "code",
   "execution_count": null,
   "metadata": {},
   "outputs": [],
   "source": [
    "(cleansing\n",
    "    .add_rule(\"Rule1\")\n",
    "    .add_column(\"id\", \"name\", \"country\")\n",
    "    .add_rule(\"null_2_string\")\n",
    "    .add_column(\"gender\")\n",
    ")"
   ]
  },
  {
   "cell_type": "code",
   "execution_count": null,
   "metadata": {},
   "outputs": [],
   "source": [
    "cleansing.exec().display()"
   ]
  },
  {
   "cell_type": "code",
   "execution_count": null,
   "metadata": {},
   "outputs": [],
   "source": [
    "cleansing.exec().display()"
   ]
  },
  {
   "cell_type": "markdown",
   "metadata": {
    "application/vnd.databricks.v1+cell": {
     "cellMetadata": {
      "byteLimit": 2048000,
      "rowLimit": 10000
     },
     "inputWidgets": {},
     "nuid": "bd008166-8de7-4a05-9111-980abf54a488",
     "showTitle": false,
     "title": ""
    }
   },
   "source": [
    "## add rules in same instance obj"
   ]
  },
  {
   "cell_type": "code",
   "execution_count": null,
   "metadata": {},
   "outputs": [],
   "source": [
    "(cleansing\n",
    "    .add_rule(\"Rule1\")\n",
    "    .add_column(\"gender\")\n",
    "    .exec().display()\n",
    ")"
   ]
  },
  {
   "cell_type": "markdown",
   "metadata": {
    "application/vnd.databricks.v1+cell": {
     "cellMetadata": {
      "byteLimit": 2048000,
      "rowLimit": 10000
     },
     "inputWidgets": {},
     "nuid": "442ebbdb-7947-4785-a351-dbaf808e08d4",
     "showTitle": false,
     "title": ""
    }
   },
   "source": [
    "## add a customize rule from local which is not builtin ..."
   ]
  },
  {
   "cell_type": "code",
   "execution_count": null,
   "metadata": {},
   "outputs": [],
   "source": [
    "from data_clean.rules import external_rule\n",
    "from pyspark.sql import DataFrame, functions as F\n",
    "from data_clean.cleansing_utils import Origin_Rule\n",
    "\n",
    "\n",
    "from data_clean.rules.IntRule import Int_Rule\n",
    "sr1 = Int_Rule()\n",
    "print([i for i in sr1.__dir__() if not i.startswith('_')])\n",
    "\n",
    "@external_rule(\"int\")\n",
    "def int_suffix(df: DataFrame, origin_rule: Origin_Rule, col: str):\n",
    "    return df.withColumn(\"new_\"+col, F.concat(F.col(col) ,F.lit(\"a\")))\n",
    "\n",
    "sr2 = Int_Rule()\n",
    "print([i for i in sr2.__dir__() if not i.startswith('_')])"
   ]
  },
  {
   "cell_type": "code",
   "execution_count": null,
   "metadata": {},
   "outputs": [],
   "source": [
    "(cleansing\n",
    "    .add_rule(\"int_suffix\")\n",
    "    .add_column(\"age\")\n",
    "    .add_rule(\"upper_string\")\n",
    "    .add_column(\"new_age\")\n",
    "    .exec().display()\n",
    ")"
   ]
  },
  {
   "cell_type": "code",
   "execution_count": null,
   "metadata": {},
   "outputs": [],
   "source": [
    "(cleansing\n",
    "    .exec().display()\n",
    ")"
   ]
  }
 ],
 "metadata": {
  "application/vnd.databricks.v1+notebook": {
   "dashboards": [],
   "environmentMetadata": null,
   "language": "python",
   "notebookMetadata": {
    "mostRecentlyExecutedCommandWithImplicitDF": {
     "commandId": 2701971953571402,
     "dataframes": [
      "_sqldf"
     ]
    },
    "pythonIndentUnit": 4
   },
   "notebookName": "cleansing_demo",
   "widgets": {}
  },
  "language_info": {
   "name": "python"
  }
 },
 "nbformat": 4,
 "nbformat_minor": 0
}
